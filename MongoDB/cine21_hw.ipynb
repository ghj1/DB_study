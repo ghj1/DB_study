{
 "cells": [
  {
   "cell_type": "code",
   "execution_count": 4,
   "source": [
    "import requests as req\n",
    "import re\n",
    "import datetime\n",
    "from bs4 import BeautifulSoup as bs\n",
    "from pymongo import MongoClient\n",
    "import pymongo\n",
    "from selenium import webdriver\n",
    "import time  "
   ],
   "outputs": [],
   "metadata": {}
  },
  {
   "cell_type": "code",
   "execution_count": 5,
   "source": [
    "# 몽고DB 서버 연결\n",
    "username = 'ubuntu'\n",
    "password = 'ubuntu'\n",
    "conn = pymongo.MongoClient('mongodb://%s:%s@127.0.0.1' % (username, password))"
   ],
   "outputs": [],
   "metadata": {}
  },
  {
   "cell_type": "code",
   "execution_count": 6,
   "source": [
    "# db, collection 연결(없으면 생성)\n",
    "# python과 연동되었을 때, db와 collection의 경우, document insert 싯점에 생성됨\n",
    "mongodb = conn.cine21hw\n",
    "#collection 객체 변수 = mongoDB.collection name(없으면 만들어짐)\n",
    "actor_collection = mongodb.actor_collection"
   ],
   "outputs": [],
   "metadata": {}
  },
  {
   "cell_type": "code",
   "execution_count": 7,
   "source": [
    "# actor 정보가 있는지 확인하기\n",
    "actor_list = actor_collection.find()\n",
    "for actor in actor_list:\n",
    "    print(actor['actor'])"
   ],
   "outputs": [
    {
     "output_type": "stream",
     "name": "stdout",
     "text": [
      "조우진\n",
      "김윤석\n",
      "조인성\n",
      "성동일\n",
      "이제훈\n",
      "허준호\n",
      "김소진\n",
      "조우진\n",
      "김윤석\n",
      "조인성\n",
      "성동일\n",
      "이제훈\n",
      "허준호\n",
      "김소진\n"
     ]
    }
   ],
   "metadata": {}
  },
  {
   "cell_type": "code",
   "execution_count": 8,
   "source": [
    "# request url\n",
    "cine21_url = 'http://www.cine21.com/rank/person/content'\n",
    "year = \"2020-10\" \n",
    "# year = \"2020-11\" 1년치의 정보를 가져온다. \n",
    "\n",
    "# post 방식으로 데이터를 가져오기 위한 request 시 필요 정보\n",
    "# 브라우저의 개발자 모드의 network tab의 form 정보 \n",
    "conditions = dict()\n",
    "conditions['section'] = 'actor'\n",
    "conditions['period_start'] = year\n",
    "conditions['gender'] = 'all'\n",
    "conditions['page'] = 1\n",
    "\n",
    "# post 방식으로 request 요청\n",
    "response = req.post(cine21_url, data = conditions)"
   ],
   "outputs": [],
   "metadata": {}
  },
  {
   "cell_type": "code",
   "execution_count": null,
   "source": [
    "print(response)\n",
    "print(response.content)"
   ],
   "outputs": [],
   "metadata": {}
  },
  {
   "cell_type": "code",
   "execution_count": 9,
   "source": [
    "soup = bs(response.content, \"html.parser\") "
   ],
   "outputs": [],
   "metadata": {}
  },
  {
   "cell_type": "code",
   "execution_count": 25,
   "source": [
    "from selenium import webdriver\n",
    "from selenium.webdriver.common.by import By\n",
    "from selenium.webdriver.support.ui import WebDriverWait\n",
    "from selenium.webdriver.support import expected_conditions as EC\n",
    "import time  \n",
    "\n",
    "#스크롤\n",
    "options = webdriver.ChromeOptions()\n",
    "options.add_argument('lang=ko_KR')\n",
    "options.add_argument(\"no-sandbox\") \n",
    "#options.add_argument('headless')\n",
    "\n",
    "driver_path = '/home/ubuntu/datagather/selenium/chromedriver'\n",
    "chrome = webdriver.Chrome(driver_path, options=options)\n",
    "\n",
    "url =  \"http://www.cine21.com/rank/person\"\n",
    "chrome.get(url)\n",
    "\n",
    "def page_loag():\n",
    "\n",
    "    interval = 2\n",
    "\n",
    "    chrome.execute_script(\"window.scrollTo(0, document.body.scrollHeight)\")\n",
    "\n",
    "    # 현재 document의 높이 반환\n",
    "    prev_height = chrome.execute_script(\"return document.body.scrollHeight\")\n",
    "\n",
    "    while True: # break를 항상 줘야 한다. \n",
    "\n",
    "        # 스크롤을 현재 페이지 가장 아래로 내림\n",
    "        chrome.execute_script(\"window.scrollTo(0, document.body.scrollHeight)\")\n",
    "        # 페이지 로딩 대기\n",
    "        time.sleep(interval)\n",
    "        # 현재 문서 높이를 가져와서 저장\n",
    "        curr_height = chrome.execute_script(\"return document.body.scrollHeight\")\n",
    "        #print(prev_height,curr_height)\n",
    "        if curr_height == prev_height:\n",
    "            break\n",
    "        # 이전 높이 변경\n",
    "        prev_height = curr_height\n",
    "\n",
    "    print(\"스크롤 완료\")\n",
    "    \n",
    "def next_page():\n",
    "    items = chrome.find_elements_by_css_selector(\"li[class ^= people_li\")\n",
    "    time.sleep(1)\n",
    "    next_page = chrome.find_element_by_css_selector(\"a[class ^= btn_next]\")\n",
    "    next_page.click()\n",
    "\n",
    "    time.sleep(1)"
   ],
   "outputs": [
    {
     "output_type": "stream",
     "name": "stderr",
     "text": [
      "/tmp/ipykernel_3864/291280763.py:14: DeprecationWarning: executable_path has been deprecated, please pass in a Service object\n",
      "  chrome = webdriver.Chrome(driver_path, options=options)\n"
     ]
    }
   ],
   "metadata": {}
  },
  {
   "cell_type": "code",
   "execution_count": 16,
   "source": [
    "# 배우, 흥행지수, 영화 제목 가져오기 \n",
    "li_alls = soup.select(\"li.people_li\")\n",
    "#print(li_alls)\n",
    "actors_list= []\n",
    "actors_rate= []\n",
    "movie_list= []\n",
    "for li_all in li_alls:\n",
    "    actor_li = li_all.select_one(\"div.name\").get_text(strip=True)\n",
    "    actors_list.append(re.sub(\"\\(\\w+\\)\", \"\", actor_li))\n",
    "#print(actors_list)  \n",
    "    actor_ra = li_all.select_one(\"strong\")\n",
    "    actors_rate.append(re.sub(\"<.*?>\", \"\", str(actor_ra)))\n",
    "#print(actors_rate)\n",
    "    movie_li = li_all.select(\"ul.mov_list span\")\n",
    "    movie_list.append(re.sub(\"<.*?>\", \"\", str(movie_li)))\n",
    "#print(movie_list)\n",
    "    #movie_list.append(movie_li)\n",
    "#print(movie_list)\n"
   ],
   "outputs": [
    {
     "output_type": "stream",
     "name": "stdout",
     "text": [
      "['[발신제한, 도굴, 서복, 국가부도의 날, 봉오동 전투, 강철비]', '[모가디슈, 당신, 거기 있어줄래요, 화이 : 괴물을 삼킨 아이, 1987, 도둑들]', '[모가디슈, 클래식]', '[담보, 수상한 그녀]', '[도굴, 사냥의 시간, 건축학개론, 아이 캔 스피크, 파수꾼, 박열]', '[모가디슈, 천문: 하늘에 묻는다, 국가부도의 날]', '[모가디슈, 스프링 송, 아이 캔 스피크, 남산의 부장들]']\n"
     ]
    }
   ],
   "metadata": {}
  },
  {
   "cell_type": "markdown",
   "source": [],
   "metadata": {}
  },
  {
   "cell_type": "code",
   "execution_count": 17,
   "source": [
    "# 배우 상세정보 가져오기 \n",
    "actors = soup.select(\"li.people_li div.name\")\n",
    "actors_detail_info = list()\n",
    "\n",
    "\n",
    "for actor in actors:\n",
    "    url_link = \"http://www.cine21.com\" + actor.select_one('a').attrs['href']\n",
    "    res = req.get(url_link)\n",
    "    # soup_actor: 배우 상세정보를 저장하는 soup 객체(html 문서)\n",
    "    soup_actor = bs(res.content, \"html.parser\")\n",
    "    # 상세정보 값\n",
    "    default_info = soup_actor.select_one(\"ul.default_info\")\n",
    "    #print(default_info )\n",
    "\n",
    "    # 배우 상세정보를 list로  return받음\n",
    "    actor_info_dict = dict()\n",
    "    actor_details = default_info.select(\"li\")\n",
    "    for actor_detail in actor_details:\n",
    "        # span문 안에 text 뽑기\n",
    "        actor_detail_key = actor_detail.select_one(\"span.tit\").get_text(strip=True)\n",
    "        actor_detail_value = re.sub(\"<span.*?>.*?</span>\", \"\", str(actor_detail))\n",
    "        actor_detail_value = re.sub(\"<.*?>\", \"\", actor_detail_value).strip()\n",
    "        actor_info_dict[actor_detail_key] = actor_detail_value\n",
    "    actors_detail_info.append(actor_info_dict)\n",
    "# 배우들의 상세정보 출력 \n",
    "print(actors_detail_info)"
   ],
   "outputs": [
    {
     "output_type": "stream",
     "name": "stdout",
     "text": [
      "[{'다른 이름': '조신제', '직업': '배우', '생년월일': '1979-01-16', '성별': '남'}, {'직업': '배우', '생년월일': '1968-01-21', '성별': '남', '신장/체중': '178cm, 68kg', '학교': '동의대학교 학사', '취미': '여행, 낚시', '소속사': '심엔터테인먼트'}, {'다른 이름': '趙寅成', '직업': '배우', '생년월일': '1981-07-28', '성별': '남', '신장/체중': '186cm, 72kg', '학교': '전남과학대 모델이벤트과 - 동국대 연극영화 (중퇴)', '취미': '모자모으기, 영화보기, 농구', '특기': '농구, 태권도(공인 4단)', '소속사': '싸이더스 HQ'}, {'직업': '배우', '생년월일': '1967-04-27', '성별': '남', '신장/체중': '177cm, 78kg', '학교': '유한대학 기계설계학'}, {'직업': '배우', '생년월일': '1984-07-04', '성별': '남', '홈페이지': 'https://www.facebook.com/saram.leejehoon', '신장/체중': '176cm', '학교': '한국예술종합학교 연극원 연기과', '특기': '댄스, 노래, 무술', '소속사': '㈜사람엔터테인먼트'}, {'원어명': '許俊豪', '직업': '배우', '생년월일': '1964-03-03', '성별': '남', '신장/체중': '180cm, 75kg', '학교': '서울예술대학 연극과', '취미': '만화책 보기', '특기': '야구, 농구', '소속사': '지티비엔터테인먼트'}, {'직업': '배우', '성별': '여'}]\n"
     ]
    }
   ],
   "metadata": {}
  },
  {
   "cell_type": "code",
   "execution_count": 18,
   "source": [
    "for num,actor in enumerate(actors_list):\n",
    "    actor_collection.insert_one(\n",
    "        {\n",
    "            \"actor\": actor,\n",
    "            \"actor_detail\": actors_detail_info[num],\n",
    "            \"actor_rate\": actors_rate[num],\n",
    "            \"date\": year,\n",
    "            \"movies_list\": movie_list[num]\n",
    "        }\n",
    "    )"
   ],
   "outputs": [],
   "metadata": {}
  },
  {
   "cell_type": "code",
   "execution_count": 20,
   "source": [
    "actors_info = list()\n",
    "\n",
    "for num, actor in enumerate(actors_list):\n",
    "    actors_info.append(\n",
    "        {\n",
    "            \"actor\": actor,\n",
    "            \"actor_detail\": actors_detail_info[num],\n",
    "            \"actor_rate\": actors_rate[num],\n",
    "            \"date\": year,\n",
    "            \"movies_list\": movie_list[num]\n",
    "        }\n",
    "    )\n",
    "print(actors_info)\n",
    "actor_collection.insert_many(actors_info)"
   ],
   "outputs": [
    {
     "output_type": "stream",
     "name": "stdout",
     "text": [
      "[{'actor': '조우진', 'actor_detail': {'다른 이름': '조신제', '직업': '배우', '생년월일': '1979-01-16', '성별': '남'}, 'actor_rate': '41,827', 'date': '2020-10', 'movies_list': '[발신제한, 도굴, 서복, 국가부도의 날, 봉오동 전투, 강철비]'}, {'actor': '김윤석', 'actor_detail': {'직업': '배우', '생년월일': '1968-01-21', '성별': '남', '신장/체중': '178cm, 68kg', '학교': '동의대학교 학사', '취미': '여행, 낚시', '소속사': '심엔터테인먼트'}, 'actor_rate': '37,291', 'date': '2020-10', 'movies_list': '[모가디슈, 당신, 거기 있어줄래요, 화이 : 괴물을 삼킨 아이, 1987, 도둑들]'}, {'actor': '조인성', 'actor_detail': {'다른 이름': '趙寅成', '직업': '배우', '생년월일': '1981-07-28', '성별': '남', '신장/체중': '186cm, 72kg', '학교': '전남과학대 모델이벤트과 - 동국대 연극영화 (중퇴)', '취미': '모자모으기, 영화보기, 농구', '특기': '농구, 태권도(공인 4단)', '소속사': '싸이더스 HQ'}, 'actor_rate': '32,659', 'date': '2020-10', 'movies_list': '[모가디슈, 클래식]'}, {'actor': '성동일', 'actor_detail': {'직업': '배우', '생년월일': '1967-04-27', '성별': '남', '신장/체중': '177cm, 78kg', '학교': '유한대학 기계설계학'}, 'actor_rate': '30,628', 'date': '2020-10', 'movies_list': '[담보, 수상한 그녀]'}, {'actor': '이제훈', 'actor_detail': {'직업': '배우', '생년월일': '1984-07-04', '성별': '남', '홈페이지': 'https://www.facebook.com/saram.leejehoon', '신장/체중': '176cm', '학교': '한국예술종합학교 연극원 연기과', '특기': '댄스, 노래, 무술', '소속사': '㈜사람엔터테인먼트'}, 'actor_rate': '30,567', 'date': '2020-10', 'movies_list': '[도굴, 사냥의 시간, 건축학개론, 아이 캔 스피크, 파수꾼, 박열]'}, {'actor': '허준호', 'actor_detail': {'원어명': '許俊豪', '직업': '배우', '생년월일': '1964-03-03', '성별': '남', '신장/체중': '180cm, 75kg', '학교': '서울예술대학 연극과', '취미': '만화책 보기', '특기': '야구, 농구', '소속사': '지티비엔터테인먼트'}, 'actor_rate': '27,969', 'date': '2020-10', 'movies_list': '[모가디슈, 천문: 하늘에 묻는다, 국가부도의 날]'}, {'actor': '김소진', 'actor_detail': {'직업': '배우', '성별': '여'}, 'actor_rate': '23,317', 'date': '2020-10', 'movies_list': '[모가디슈, 스프링 송, 아이 캔 스피크, 남산의 부장들]'}]\n"
     ]
    },
    {
     "output_type": "execute_result",
     "data": {
      "text/plain": [
       "<pymongo.results.InsertManyResult at 0x7f8672bb3b80>"
      ]
     },
     "metadata": {},
     "execution_count": 20
    }
   ],
   "metadata": {}
  },
  {
   "cell_type": "code",
   "execution_count": null,
   "source": [],
   "outputs": [],
   "metadata": {}
  }
 ],
 "metadata": {
  "orig_nbformat": 4,
  "language_info": {
   "name": "python",
   "version": "3.8.0",
   "mimetype": "text/x-python",
   "codemirror_mode": {
    "name": "ipython",
    "version": 3
   },
   "pygments_lexer": "ipython3",
   "nbconvert_exporter": "python",
   "file_extension": ".py"
  },
  "kernelspec": {
   "name": "python3",
   "display_name": "Python 3.8.0 64-bit ('datavenv': venv)"
  },
  "interpreter": {
   "hash": "f810d42011b51088466a54679ac5cfc34ac8f2fcba487e21ee749b1174ea7107"
  }
 },
 "nbformat": 4,
 "nbformat_minor": 2
}