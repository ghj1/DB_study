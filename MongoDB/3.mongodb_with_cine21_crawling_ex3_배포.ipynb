{
 "cells": [
  {
   "cell_type": "markdown",
   "metadata": {
    "collapsed": true
   },
   "source": [
    "# 1. 크롤링과 함께 쓰는 mongoDB 예제"
   ]
  },
  {
   "cell_type": "markdown",
   "metadata": {},
   "source": [
    "### cine21 인물 랭킹 알아내기\n",
    "  - [씨네21-인물 순위](http://www.cine21.com/rank/person/)\n",
    "  - 조회를 눌렀을 때, Go to Network -> content 의 Request URL/Method 와 Form 데이터 알아내기\n",
    "    - Request URL: http://www.cine21.com/rank/person/content\n",
    "    - Request Method: POST\n",
    "    - Form Data\n",
    "      - section:actor\n",
    "      - period_start:2021-10\n",
    "      - gender:all\n",
    "      - page:1\n",
    "    - 하단부 페이지를 누를 때마다, Form Data 의 page 값이 바뀜"
   ]
  },
  {
   "cell_type": "code",
   "execution_count": 1,
   "metadata": {
    "collapsed": true,
    "scrolled": true
   },
   "outputs": [],
   "source": [
    "import requests as req\n",
    "import re\n",
    "import datetime\n",
    "from bs4 import BeautifulSoup as bs\n",
    "from pymongo import MongoClient\n",
    "import pymongo"
   ]
  },
  {
   "cell_type": "code",
   "execution_count": 2,
   "metadata": {
    "collapsed": true,
    "scrolled": true
   },
   "outputs": [],
   "source": [
    "# 몽고DB 서버 연결\n",
    "username = 'ubuntu'\n",
    "password = '1234'\n",
    "conn = pymongo.MongoClient('mongodb://%s:%s@127.0.0.1:27017' % (username, password))"
   ]
  },
  {
   "cell_type": "code",
   "execution_count": 3,
   "metadata": {
    "collapsed": true,
    "scrolled": true
   },
   "outputs": [],
   "source": [
    "# db, collection 연결(없으면 생성)\n",
    "# python과 연동되었을 때, db와 collection의 경우, document insert 싯점에 생성됨\n",
    "mongodb = conn.cine21\n",
    "\n",
    "# collection 객체 변수 - 몽고 db 컬렉션 이름(없으면 안 만들어짐)\n",
    "actor_collection = mongodb.actor_collection"
   ]
  },
  {
   "cell_type": "code",
   "execution_count": 4,
   "metadata": {
    "scrolled": true
   },
   "outputs": [],
   "source": [
    "# actor 정보가 있는지 확인하기\n",
    "actor_list = actor_collection.find()\n",
    "for actor in actor_list:\n",
    "    print(actor['actor'])"
   ]
  },
  {
   "cell_type": "code",
   "execution_count": 5,
   "metadata": {
    "collapsed": true,
    "scrolled": true
   },
   "outputs": [],
   "source": [
    "# request url\n",
    "cine21_url = 'http://www.cine21.com/rank/person/content'\n",
    "month = \"2021-10\"\n",
    "year = \"2020-11\"\n",
    "\n",
    "# post 방식으로 데이터를 가져오기 위한 request 시 필요 정보\n",
    "# 브라우저 개발자 모드의 network tab의 form 정보\n",
    "conditions = dict()\n",
    "conditions['section'] = 'actor'\n",
    "conditions['period_start'] = month\n",
    "conditions['gender'] = 'all'\n",
    "conditions['page'] = 1\n",
    "\n",
    "# post 방식으로 request 요청\n",
    "response = req.post(cine21_url, data = conditions)"
   ]
  },
  {
   "cell_type": "code",
   "execution_count": null,
   "metadata": {},
   "outputs": [],
   "source": [
    "response.content"
   ]
  },
  {
   "cell_type": "code",
   "execution_count": 7,
   "metadata": {},
   "outputs": [
    {
     "data": {
      "text/plain": [
       " <ul class=\"people_list\">\n",
       "<li class=\"people_li\">\n",
       "<a href=\"/db/person/info/?person_id=74826\"><img alt=\"\" class=\"people_thumb\" src=\"https://image.cine21.com/resize/cine21/person/2019/0828/11_54_52__5d65ecfc13ca6[X145,145].jpg\" target=\"_blank\"/></a>\n",
       "<div class=\"name\"><a href=\"/db/person/info/?person_id=74826\">박정민(1편)</a></div>\n",
       "<ul class=\"num_info\">\n",
       "<li><span class=\"tit\">흥행지수</span><strong>160,806</strong></li>\n",
       "<!--\n",
       "\t\t\t\t\t\t<li><a href=\"#\" class=\"btn_graph\"><span class=\"ico\"></span><span>흥행성적<br />그래프로 보기</span></a></li>\n",
       "\t\t\t\t\t\t-->\n",
       "</ul>\n",
       "<!-- 영화포스터는 최대 5개까지만 -->\n",
       "<ul class=\"mov_list\">\n",
       "<li>\n",
       "<a href=\"/movie/info/?movie_id=57227\">\n",
       "<img alt=\"\" class=\"thumb\" src=\"https://image.cine21.com/resize/cine21/poster/2021/0928/10_31_26__6152706e344e6[X85,120].jpg\" target=\"_blank\"/>\n",
       "<span>기적</span>\n",
       "</a>\n",
       "</li>\n",
       "</ul>\n",
       "<!-- 순위 --><span class=\"grade\">1</span>\n",
       "</li>\n",
       "<li class=\"people_li\">\n",
       "<a href=\"/db/person/info/?person_id=25123\"><img alt=\"\" class=\"people_thumb\" src=\"https://image.cine21.com/resize/cine21/person/2020/0108/11_20_05__5e153c55bdaea[X145,145].jpg\" target=\"_blank\"/></a>\n",
       "<div class=\"name\"><a href=\"/db/person/info/?person_id=25123\">이성민(1편)</a></div>\n",
       "<ul class=\"num_info\">\n",
       "<li><span class=\"tit\">흥행지수</span><strong>120,606</strong></li>\n",
       "<!--\n",
       "\t\t\t\t\t\t<li><a href=\"#\" class=\"btn_graph\"><span class=\"ico\"></span><span>흥행성적<br />그래프로 보기</span></a></li>\n",
       "\t\t\t\t\t\t-->\n",
       "</ul>\n",
       "<!-- 영화포스터는 최대 5개까지만 -->\n",
       "<ul class=\"mov_list\">\n",
       "<li>\n",
       "<a href=\"/movie/info/?movie_id=57227\">\n",
       "<img alt=\"\" class=\"thumb\" src=\"https://image.cine21.com/resize/cine21/poster/2021/0928/10_31_26__6152706e344e6[X85,120].jpg\" target=\"_blank\"/>\n",
       "<span>기적</span>\n",
       "</a>\n",
       "</li>\n",
       "</ul>\n",
       "<!-- 순위 --><span class=\"grade\">2</span>\n",
       "</li>\n",
       "<li class=\"people_li\">\n",
       "<a href=\"/db/person/info/?person_id=66313\"><img alt=\"\" class=\"people_thumb\" src=\"https://image.cine21.com/resize/cine21/person/2021/0927/15_22_17__615163198ef1b[X145,145].jpg\" target=\"_blank\"/></a>\n",
       "<div class=\"name\"><a href=\"/db/person/info/?person_id=66313\">임윤아(1편)</a></div>\n",
       "<ul class=\"num_info\">\n",
       "<li><span class=\"tit\">흥행지수</span><strong>80,402</strong></li>\n",
       "<!--\n",
       "\t\t\t\t\t\t<li><a href=\"#\" class=\"btn_graph\"><span class=\"ico\"></span><span>흥행성적<br />그래프로 보기</span></a></li>\n",
       "\t\t\t\t\t\t-->\n",
       "</ul>\n",
       "<!-- 영화포스터는 최대 5개까지만 -->\n",
       "<ul class=\"mov_list\">\n",
       "<li>\n",
       "<a href=\"/movie/info/?movie_id=57227\">\n",
       "<img alt=\"\" class=\"thumb\" src=\"https://image.cine21.com/resize/cine21/poster/2021/0928/10_31_26__6152706e344e6[X85,120].jpg\" target=\"_blank\"/>\n",
       "<span>기적</span>\n",
       "</a>\n",
       "</li>\n",
       "</ul>\n",
       "<!-- 순위 --><span class=\"grade\">3</span>\n",
       "</li>\n",
       "<li class=\"people_li\">\n",
       "<a href=\"/db/person/info/?person_id=70020\"><img alt=\"\" class=\"people_thumb\" src=\"https://image.cine21.com/resize/cine21/person/2009/1116/P0000006_04[X145,145].jpg\" target=\"_blank\"/></a>\n",
       "<div class=\"name\"><a href=\"/db/person/info/?person_id=70020\">노회찬(1편)</a></div>\n",
       "<ul class=\"num_info\">\n",
       "<li><span class=\"tit\">흥행지수</span><strong>51,374</strong></li>\n",
       "<!--\n",
       "\t\t\t\t\t\t<li><a href=\"#\" class=\"btn_graph\"><span class=\"ico\"></span><span>흥행성적<br />그래프로 보기</span></a></li>\n",
       "\t\t\t\t\t\t-->\n",
       "</ul>\n",
       "<!-- 영화포스터는 최대 5개까지만 -->\n",
       "<ul class=\"mov_list\">\n",
       "<li>\n",
       "<a href=\"/movie/info/?movie_id=57921\">\n",
       "<img alt=\"\" class=\"thumb\" src=\"https://image.cine21.com/resize/cine21/poster/2021/1018/57921_616cc9dd3e72a[X85,120].jpg\" target=\"_blank\"/>\n",
       "<span>노회찬6411</span>\n",
       "</a>\n",
       "</li>\n",
       "</ul>\n",
       "<!-- 순위 --><span class=\"grade\">4</span>\n",
       "</li>\n",
       "<li class=\"people_li\">\n",
       "<a href=\"/db/person/info/?person_id=96165\"><img alt=\"\" class=\"people_thumb\" src=\"https://image.cine21.com/resize/cine21/still/2017/1207/13_59_25__5a28caad303f8[X145,145].jpg\" target=\"_blank\"/></a>\n",
       "<div class=\"name\"><a href=\"/db/person/info/?person_id=96165\">이수경(1편)</a></div>\n",
       "<ul class=\"num_info\">\n",
       "<li><span class=\"tit\">흥행지수</span><strong>40,202</strong></li>\n",
       "<!--\n",
       "\t\t\t\t\t\t<li><a href=\"#\" class=\"btn_graph\"><span class=\"ico\"></span><span>흥행성적<br />그래프로 보기</span></a></li>\n",
       "\t\t\t\t\t\t-->\n",
       "</ul>\n",
       "<!-- 영화포스터는 최대 5개까지만 -->\n",
       "<ul class=\"mov_list\">\n",
       "<li>\n",
       "<a href=\"/movie/info/?movie_id=57227\">\n",
       "<img alt=\"\" class=\"thumb\" src=\"https://image.cine21.com/resize/cine21/poster/2021/0928/10_31_26__6152706e344e6[X85,120].jpg\" target=\"_blank\"/>\n",
       "<span>기적</span>\n",
       "</a>\n",
       "</li>\n",
       "</ul>\n",
       "<!-- 순위 --><span class=\"grade\">5</span>\n",
       "</li>\n",
       "<li class=\"people_li\">\n",
       "<a href=\"/db/person/info/?person_id=32987\"><img alt=\"\" class=\"people_thumb\" src=\"https://image.cine21.com/resize/cine21/person/2021/0713/19_03_32__60ed64f4d30da[X145,145].jpg\" target=\"_blank\"/></a>\n",
       "<div class=\"name\"><a href=\"/db/person/info/?person_id=32987\">박영남(1편)</a></div>\n",
       "<ul class=\"num_info\">\n",
       "<li><span class=\"tit\">흥행지수</span><strong>27,566</strong></li>\n",
       "<!--\n",
       "\t\t\t\t\t\t<li><a href=\"#\" class=\"btn_graph\"><span class=\"ico\"></span><span>흥행성적<br />그래프로 보기</span></a></li>\n",
       "\t\t\t\t\t\t-->\n",
       "</ul>\n",
       "<!-- 영화포스터는 최대 5개까지만 -->\n",
       "<ul class=\"mov_list\">\n",
       "<li>\n",
       "<a href=\"/movie/info/?movie_id=58107\">\n",
       "<img alt=\"\" class=\"thumb\" src=\"https://image.cine21.com/resize/cine21/poster/2021/0903/11_52_57__61318e09828ca[X85,120].jpg\" target=\"_blank\"/>\n",
       "<span>극장판 짱구는 못말려: 격돌! 낙서왕국과 얼추 네 명의 용사들</span>\n",
       "</a>\n",
       "</li>\n",
       "</ul>\n",
       "<!-- 순위 --><span class=\"grade\">6</span>\n",
       "</li>\n",
       "<li class=\"people_li\">\n",
       "<a href=\"/db/person/info/?person_id=74727\"><img alt=\"\" class=\"people_thumb\" src=\"https://image.cine21.com/resize/cine21/person/2021/0713/19_05_58__60ed65866f3cd[X145,145].jpg\" target=\"_blank\"/></a>\n",
       "<div class=\"name\"><a href=\"/db/person/info/?person_id=74727\">김환진(1편)</a></div>\n",
       "<ul class=\"num_info\">\n",
       "<li><span class=\"tit\">흥행지수</span><strong>24,120</strong></li>\n",
       "<!--\n",
       "\t\t\t\t\t\t<li><a href=\"#\" class=\"btn_graph\"><span class=\"ico\"></span><span>흥행성적<br />그래프로 보기</span></a></li>\n",
       "\t\t\t\t\t\t-->\n",
       "</ul>\n",
       "<!-- 영화포스터는 최대 5개까지만 -->\n",
       "<ul class=\"mov_list\">\n",
       "<li>\n",
       "<a href=\"/movie/info/?movie_id=58107\">\n",
       "<img alt=\"\" class=\"thumb\" src=\"https://image.cine21.com/resize/cine21/poster/2021/0903/11_52_57__61318e09828ca[X85,120].jpg\" target=\"_blank\"/>\n",
       "<span>극장판 짱구는 못말려: 격돌! 낙서왕국과 얼추 네 명의 용사들</span>\n",
       "</a>\n",
       "</li>\n",
       "</ul>\n",
       "<!-- 순위 --><span class=\"grade\">7</span>\n",
       "</li>\n",
       "</ul>\n",
       "<div class=\"pagination\"><a class=\"btn_first\" href=\"javascript:fetch_list(1)\"><span class=\"hidden\">처음으로</span><span class=\"ico\"></span></a><div class=\"page\"><a class=\"on\" href=\"javascript:;\">1</a><a href=\"javascript:fetch_list(2)\">2</a><a href=\"javascript:fetch_list(3)\">3</a><a href=\"javascript:fetch_list(4)\">4</a><a href=\"javascript:fetch_list(5)\">5</a><a href=\"javascript:fetch_list(6)\">6</a><a href=\"javascript:fetch_list(7)\">7</a><a href=\"javascript:fetch_list(8)\">8</a><a href=\"javascript:fetch_list(9)\">9</a><a href=\"javascript:fetch_list(10)\">10</a></div><a class=\"btn_next\" href=\"javascript:fetch_list(11)\"><span class=\"hidden\">다음</span><span class=\"ico\"></span></a><a class=\"btn_end\" href=\"javascript:fetch_list(75)\"><span class=\"hidden\">끝으로</span><span class=\"ico\"></span></a> </div>"
      ]
     },
     "execution_count": 7,
     "metadata": {},
     "output_type": "execute_result"
    }
   ],
   "source": [
    "#html 문서안 soup 객체 생성\n",
    "soup = bs(response.content, 'html.parser')\n",
    "soup"
   ]
  },
  {
   "cell_type": "code",
   "execution_count": 36,
   "metadata": {},
   "outputs": [
    {
     "data": {
      "text/plain": [
       "[<div class=\"name\"><a href=\"/db/person/info/?person_id=74826\">박정민(1편)</a></div>,\n",
       " <div class=\"name\"><a href=\"/db/person/info/?person_id=25123\">이성민(1편)</a></div>,\n",
       " <div class=\"name\"><a href=\"/db/person/info/?person_id=66313\">임윤아(1편)</a></div>,\n",
       " <div class=\"name\"><a href=\"/db/person/info/?person_id=70020\">노회찬(1편)</a></div>,\n",
       " <div class=\"name\"><a href=\"/db/person/info/?person_id=96165\">이수경(1편)</a></div>,\n",
       " <div class=\"name\"><a href=\"/db/person/info/?person_id=32987\">박영남(1편)</a></div>,\n",
       " <div class=\"name\"><a href=\"/db/person/info/?person_id=74727\">김환진(1편)</a></div>]"
      ]
     },
     "execution_count": 36,
     "metadata": {},
     "output_type": "execute_result"
    }
   ],
   "source": [
    "actors = soup.select(\"li.people_li div.name\")\n",
    "actors"
   ]
  },
  {
   "cell_type": "code",
   "execution_count": 37,
   "metadata": {},
   "outputs": [
    {
     "name": "stdout",
     "output_type": "stream",
     "text": [
      "[<a href=\"/db/person/info/?person_id=74826\">박정민(1편)</a>]\n",
      "[<a href=\"/db/person/info/?person_id=25123\">이성민(1편)</a>]\n",
      "[<a href=\"/db/person/info/?person_id=66313\">임윤아(1편)</a>]\n",
      "[<a href=\"/db/person/info/?person_id=70020\">노회찬(1편)</a>]\n",
      "[<a href=\"/db/person/info/?person_id=96165\">이수경(1편)</a>]\n",
      "[<a href=\"/db/person/info/?person_id=32987\">박영남(1편)</a>]\n",
      "[<a href=\"/db/person/info/?person_id=74727\">김환진(1편)</a>]\n"
     ]
    }
   ],
   "source": [
    "for actor in actors:\n",
    "    print(actor.select(\"a\"))"
   ]
  },
  {
   "cell_type": "code",
   "execution_count": 10,
   "metadata": {
    "scrolled": true
   },
   "outputs": [
    {
     "name": "stdout",
     "output_type": "stream",
     "text": [
      "마동석 미국인\n"
     ]
    }
   ],
   "source": [
    "# 정규 표현식 참고 : https://regexr.com/\n",
    "# 문자, 숫자를 찾음 : \\w\n",
    "# 특수 기호 () 문자로 인식 : \\( \\)\n",
    "\n",
    "# 2. 반복 표현 ?, *, +\n",
    "# + : 앞 문자가 1번 또는 그 이상 반복되는 패턴\n",
    "# ? : 앞 문자가 0번 또는 1번 표시되는 패턴(없어도 되고, 한번 있어도 되는 패턴)\n",
    "# * : 앞 문자가 0번 또는 그이상 반복되는 패턴\n",
    "import re\n",
    "test_data = '마동석(17편)'\n",
    "#re.sub('정규표현식', '변경데이터', test_data)\n",
    "# \"(숫자)\" 부분을 찾아서 \"\" 공백으로 만들어 버린다.\n",
    "print(re.sub(\"\\(\\w+\\)\", \" 미국인\", test_data))"
   ]
  },
  {
   "cell_type": "code",
   "execution_count": 11,
   "metadata": {},
   "outputs": [
    {
     "name": "stdout",
     "output_type": "stream",
     "text": [
      "박정민\n",
      "이성민\n",
      "임윤아\n",
      "노회찬\n",
      "이수경\n",
      "박영남\n",
      "김환진\n",
      "--------------------------------------------------------------\n"
     ]
    },
    {
     "data": {
      "text/plain": [
       "['박정민', '이성민', '임윤아', '노회찬', '이수경', '박영남', '김환진']"
      ]
     },
     "execution_count": 11,
     "metadata": {},
     "output_type": "execute_result"
    }
   ],
   "source": [
    "# [실습]\n",
    "# 한 페이지 내의 배우이름만 가져오기\n",
    "import re\n",
    "\n",
    "def remove_num(name):\n",
    "    return re.sub(\"\\(\\w+\\)\", \"\", name)\n",
    "\n",
    "actor_lst = list()\n",
    "for actor in actors:\n",
    "    # 연산은 한번만하고 그 값을 출력, 리스트에 추가한다.\n",
    "    temp = remove_num(actor.getText())\n",
    "    print( temp )\n",
    "    actor_lst.append(temp)\n",
    "\n",
    "print('-'*62)\n",
    "actor_lst"
   ]
  },
  {
   "cell_type": "markdown",
   "metadata": {},
   "source": [
    "### 각 배우별 상세 정보를 document에 넣고 싶다.\n",
    "* 각 배우별 상세 정보를 별도 컬럼으로 만들려했더니, 각 배우별 상세 정보 항목이 다르다!\n",
    "* 모든 상세 정보 항목을 컬럼으로 만들고, 각 컬럼에 매칭되는 컬럼값을 넣기가 쉽지 않다. 코드도 복잡하고!\n",
    "* Mongodb는 NoSQL -> 통째로 집어넣자.!"
   ]
  },
  {
   "cell_type": "markdown",
   "metadata": {},
   "source": [
    "* embedded document\n",
    "  - document 의 컬럼값으로 document를 넣을 수 있다."
   ]
  },
  {
   "cell_type": "code",
   "execution_count": 12,
   "metadata": {},
   "outputs": [
    {
     "data": {
      "text/plain": [
       "[<div class=\"name\"><a href=\"/db/person/info/?person_id=74826\">박정민(1편)</a></div>,\n",
       " <div class=\"name\"><a href=\"/db/person/info/?person_id=25123\">이성민(1편)</a></div>,\n",
       " <div class=\"name\"><a href=\"/db/person/info/?person_id=66313\">임윤아(1편)</a></div>,\n",
       " <div class=\"name\"><a href=\"/db/person/info/?person_id=70020\">노회찬(1편)</a></div>,\n",
       " <div class=\"name\"><a href=\"/db/person/info/?person_id=96165\">이수경(1편)</a></div>,\n",
       " <div class=\"name\"><a href=\"/db/person/info/?person_id=32987\">박영남(1편)</a></div>,\n",
       " <div class=\"name\"><a href=\"/db/person/info/?person_id=74727\">김환진(1편)</a></div>]"
      ]
     },
     "execution_count": 12,
     "metadata": {},
     "output_type": "execute_result"
    }
   ],
   "source": [
    "actors"
   ]
  },
  {
   "cell_type": "code",
   "execution_count": 13,
   "metadata": {},
   "outputs": [],
   "source": [
    "def remove_span(tag):\n",
    "    return re.sub('<span.*?>.*?<\\/span>',\"\", tag)\n",
    "\n",
    "def remove_li(tag):\n",
    "    return re.sub('<.*?>',\"\", tag)"
   ]
  },
  {
   "cell_type": "code",
   "execution_count": 14,
   "metadata": {},
   "outputs": [
    {
     "data": {
      "text/plain": [
       "[{'직업': '배우',\n",
       "  '생년월일': '1987-02-25',\n",
       "  '성별': '남',\n",
       "  '신장/체중': '178cm, 63kg',\n",
       "  '학교': '한국예술종합학교 영상원 연극원 연기과'},\n",
       " {'직업': '배우', '생년월일': '1968-10-15', '성별': '남', '신장/체중': '178cm'},\n",
       " {'다른 이름': '소녀시대; girlsgeneration; girls generation',\n",
       "  '직업': '가수',\n",
       "  '생년월일': '1990-05-30',\n",
       "  '성별': '여',\n",
       "  '홈페이지': 'https://www.instagram.com/yoona__lim/',\n",
       "  '소속사': 'SM엔터테인먼트'},\n",
       " {'생년월일': '1956-08-31',\n",
       "  '사망': '2018-07-23',\n",
       "  '성별': '남',\n",
       "  '홈페이지': 'https://twitter.com/hcroh, https://www.facebook.com/omyChans'},\n",
       " {'직업': '배우', '생년월일': '1996-10-24', '성별': '여'},\n",
       " {'직업': '성우', '생년월일': '1946-10-08', '성별': '여'},\n",
       " {'직업': '성우', '생년월일': '1952-10-03', '성별': '남'}]"
      ]
     },
     "execution_count": 14,
     "metadata": {},
     "output_type": "execute_result"
    }
   ],
   "source": [
    "detail = []\n",
    "for actor in actors:\n",
    "    href = actor.select_one('a').attrs[\"href\"]\n",
    "    url = \"http://www.cine21.com\" + href\n",
    "\n",
    "    res = req.get(url)\n",
    "\n",
    "    # 배우 상세 정보 저장하는 soup 객체(html 객체)\n",
    "    soup_actor = bs(res.content, \"html.parser\")\n",
    "    info = soup_actor.select_one(\"ul.default_info\")\n",
    "    # print(info)\n",
    "\n",
    "    # 배우 상세 정보를 리스트로 반한환 리턴받음.\n",
    "    db = dict()\n",
    "    actor_details = info.select('li')\n",
    "    for actor_detail in actor_details:\n",
    "\n",
    "        # 방법 1.\n",
    "        key = actor_detail.select_one('span.tit').get_text(strip=True)\n",
    "        value = remove_li(remove_span(str(actor_detail))).replace('\\n',\", \").strip(', ')\n",
    "        db[key] = value\n",
    "\n",
    "        # 방법 2. 상세 정보 key 추출\n",
    "        # c = actor_detail\n",
    "        # print(c)\n",
    "        # a = actor_detail.select_one('span').extract() # get_text()\n",
    "        # print(a)\n",
    "        # b = actor_detail.get_text()\n",
    "        # print(b)\n",
    "\n",
    "        # print(\"-\"*20)\n",
    "    detail.append(db)\n",
    "\n",
    "detail"
   ]
  },
  {
   "cell_type": "markdown",
   "metadata": {},
   "source": [
    "### 흥행지수 뽑기"
   ]
  },
  {
   "cell_type": "code",
   "execution_count": 15,
   "metadata": {},
   "outputs": [
    {
     "name": "stdout",
     "output_type": "stream",
     "text": [
      "배우이름 : 박정민\n",
      "흥행지수 : 160,806\n",
      "-----------------\n",
      "배우이름 : 이성민\n",
      "흥행지수 : 120,606\n",
      "-----------------\n",
      "배우이름 : 임윤아\n",
      "흥행지수 : 80,402\n",
      "-----------------\n",
      "배우이름 : 노회찬\n",
      "흥행지수 : 51,374\n",
      "-----------------\n",
      "배우이름 : 이수경\n",
      "흥행지수 : 40,202\n",
      "-----------------\n",
      "배우이름 : 박영남\n",
      "흥행지수 : 27,566\n",
      "-----------------\n",
      "배우이름 : 김환진\n",
      "흥행지수 : 24,120\n",
      "-----------------\n"
     ]
    },
    {
     "data": {
      "text/plain": [
       "['160,806', '120,606', '80,402', '51,374', '40,202', '27,566', '24,120']"
      ]
     },
     "execution_count": 15,
     "metadata": {},
     "output_type": "execute_result"
    }
   ],
   "source": [
    "hits = soup.select('strong')\n",
    "actors_hit_info = list()\n",
    "for idx in range(len(hits)):\n",
    "    print('배우이름 :',actor_lst[idx])\n",
    "    print(\"흥행지수 :\",hits[idx].get_text())\n",
    "    print(\"-\"*17)\n",
    "    actors_hit_info.append(hits[idx].get_text())\n",
    "actors_hit_info\n"
   ]
  },
  {
   "cell_type": "markdown",
   "metadata": {},
   "source": [
    "### 각 배우별 출연 영화를 document에 저장하고 싶다.\n",
    "  - 출연 영화는 한 개가 될 수도 있고, 여러 개가 될 수도 있음\n",
    "  - 파이썬은 리스트, mongodb document는 컬럼에 배열(array)로 넣으면 됨 "
   ]
  },
  {
   "cell_type": "code",
   "execution_count": 16,
   "metadata": {},
   "outputs": [
    {
     "data": {
      "text/plain": [
       "['기적',\n",
       " '기적',\n",
       " '기적',\n",
       " '노회찬6411',\n",
       " '기적',\n",
       " '극장판 짱구는 못말려: 격돌! 낙서왕국과 얼추 네 명의 용사들',\n",
       " '극장판 짱구는 못말려: 격돌! 낙서왕국과 얼추 네 명의 용사들']"
      ]
     },
     "execution_count": 16,
     "metadata": {},
     "output_type": "execute_result"
    }
   ],
   "source": [
    "movie_lst = list()\n",
    "movies = soup.select('li.people_li ul.mov_list a span')\n",
    "for idx in range(len(movies)):\n",
    "    actor_movie = dict()\n",
    "    title = movies[idx].get_text()\n",
    "    movie_lst.append(title)\n",
    "movie_lst    "
   ]
  },
  {
   "cell_type": "markdown",
   "metadata": {},
   "source": [
    "### insert_one() 로 하나씩 데이터 입력하기 (반복문과 함께 사용하면, 여러 데이터를 넣을 수 있음)"
   ]
  },
  {
   "cell_type": "markdown",
   "metadata": {},
   "source": [
    "- actor_list: 배우 이름\n",
    "- actor_details: 배우 상세 정보\n",
    "- actor_rate: 흥행 지수\n",
    "- date: 기준월\n",
    "- movie_list: 출연 영화 리스트!"
   ]
  },
  {
   "cell_type": "code",
   "execution_count": 17,
   "metadata": {},
   "outputs": [
    {
     "data": {
      "text/plain": [
       "['박정민', '이성민', '임윤아', '노회찬', '이수경', '박영남', '김환진']"
      ]
     },
     "execution_count": 17,
     "metadata": {},
     "output_type": "execute_result"
    }
   ],
   "source": [
    "actor_lst"
   ]
  },
  {
   "cell_type": "code",
   "execution_count": 18,
   "metadata": {},
   "outputs": [],
   "source": [
    "for num, actor in enumerate(actor_lst):\n",
    "    actor_collection.insert_one(\n",
    "        {\n",
    "            \"actor\":actor,\n",
    "            \"actor_details\":detail[num],\n",
    "            \"actor_hit\":actors_hit_info[num],\n",
    "            \"date\":month,\n",
    "            \"movie_list\":movie_lst[num]\n",
    "        }\n",
    "    )"
   ]
  },
  {
   "cell_type": "code",
   "execution_count": 19,
   "metadata": {},
   "outputs": [
    {
     "name": "stdout",
     "output_type": "stream",
     "text": [
      "[{'actor': '박정민', 'actor_details': {'직업': '배우', '생년월일': '1987-02-25', '성별': '남', '신장/체중': '178cm, 63kg', '학교': '한국예술종합학교 영상원 연극원 연기과'}, 'actor_hit': '160,806', 'date': '2021-10', 'movie_list': '기적'}, {'actor': '이성민', 'actor_details': {'직업': '배우', '생년월일': '1968-10-15', '성별': '남', '신장/체중': '178cm'}, 'actor_hit': '120,606', 'date': '2021-10', 'movie_list': '기적'}, {'actor': '임윤아', 'actor_details': {'다른 이름': '소녀시대; girlsgeneration; girls generation', '직업': '가수', '생년월일': '1990-05-30', '성별': '여', '홈페이지': 'https://www.instagram.com/yoona__lim/', '소속사': 'SM엔터테인먼트'}, 'actor_hit': '80,402', 'date': '2021-10', 'movie_list': '기적'}, {'actor': '노회찬', 'actor_details': {'생년월일': '1956-08-31', '사망': '2018-07-23', '성별': '남', '홈페이지': 'https://twitter.com/hcroh, https://www.facebook.com/omyChans'}, 'actor_hit': '51,374', 'date': '2021-10', 'movie_list': '노회찬6411'}, {'actor': '이수경', 'actor_details': {'직업': '배우', '생년월일': '1996-10-24', '성별': '여'}, 'actor_hit': '40,202', 'date': '2021-10', 'movie_list': '기적'}, {'actor': '박영남', 'actor_details': {'직업': '성우', '생년월일': '1946-10-08', '성별': '여'}, 'actor_hit': '27,566', 'date': '2021-10', 'movie_list': '극장판 짱구는 못말려: 격돌! 낙서왕국과 얼추 네 명의 용사들'}, {'actor': '김환진', 'actor_details': {'직업': '성우', '생년월일': '1952-10-03', '성별': '남'}, 'actor_hit': '24,120', 'date': '2021-10', 'movie_list': '극장판 짱구는 못말려: 격돌! 낙서왕국과 얼추 네 명의 용사들'}]\n"
     ]
    },
    {
     "data": {
      "text/plain": [
       "<pymongo.results.InsertManyResult at 0x7f0a7e5b5cc0>"
      ]
     },
     "execution_count": 19,
     "metadata": {},
     "output_type": "execute_result"
    }
   ],
   "source": [
    "actors_info = list()\n",
    "for num, actor in enumerate(actor_lst):\n",
    "    actors_info.append(\n",
    "        {\n",
    "            \"actor\":actor,\n",
    "            \"actor_details\":detail[num],\n",
    "            \"actor_hit\":actors_hit_info[num],\n",
    "            \"date\":month,\n",
    "            \"movie_list\":movie_lst[num]\n",
    "        }\n",
    "    )\n",
    "print(actors_info)\n",
    "actor_collection.insert_many(actors_info)"
   ]
  },
  {
   "cell_type": "markdown",
   "metadata": {},
   "source": [
    "## Document Key명 변경 방법\n",
    "* ## actor -> actor_name으로 변경"
   ]
  },
  {
   "cell_type": "code",
   "execution_count": 20,
   "metadata": {},
   "outputs": [
    {
     "data": {
      "text/plain": [
       "<pymongo.results.UpdateResult at 0x7f0a7e5b77c0>"
      ]
     },
     "execution_count": 20,
     "metadata": {},
     "output_type": "execute_result"
    }
   ],
   "source": [
    "# actor_collection.update_many({}, {\"$rename\":{\"원래키\":\"변경할 키\"}})\n",
    "actor_collection.update_many(\n",
    "    {},\n",
    "    {\"$rename\":{\"actor\":\"actor_name\"}}\n",
    ")"
   ]
  },
  {
   "cell_type": "markdown",
   "metadata": {},
   "source": [
    "* ## actor_details -> actor_info 로 변경해본다."
   ]
  },
  {
   "cell_type": "code",
   "execution_count": 21,
   "metadata": {},
   "outputs": [
    {
     "data": {
      "text/plain": [
       "<pymongo.results.UpdateResult at 0x7f0a7e5b5f80>"
      ]
     },
     "execution_count": 21,
     "metadata": {},
     "output_type": "execute_result"
    }
   ],
   "source": [
    "actor_collection.update_many(\n",
    "    {},\n",
    "    {\"$rename\":{\"actor_details\":\"actor_info\"}}\n",
    ")"
   ]
  },
  {
   "cell_type": "code",
   "execution_count": null,
   "metadata": {
    "collapsed": true,
    "scrolled": true
   },
   "outputs": [],
   "source": [
    "# collection drop\n",
    "# actor_collection.drop()"
   ]
  },
  {
   "cell_type": "code",
   "execution_count": null,
   "metadata": {
    "collapsed": true,
    "scrolled": true
   },
   "outputs": [],
   "source": [
    "# collection 찾기\n",
    "docs = actor_collection.find()\n",
    "docs"
   ]
  },
  {
   "cell_type": "code",
   "execution_count": null,
   "metadata": {
    "collapsed": true,
    "scrolled": true
   },
   "outputs": [],
   "source": [
    "for doc in docs:\n",
    "    print(doc)"
   ]
  },
  {
   "cell_type": "markdown",
   "metadata": {},
   "source": [
    "### Dictionary 타입으로 만들어서 한번에 insert_many() 로 데이터 입력하기"
   ]
  },
  {
   "cell_type": "code",
   "execution_count": null,
   "metadata": {},
   "outputs": [],
   "source": []
  },
  {
   "cell_type": "code",
   "execution_count": null,
   "metadata": {},
   "outputs": [],
   "source": []
  },
  {
   "cell_type": "code",
   "execution_count": null,
   "metadata": {},
   "outputs": [],
   "source": []
  },
  {
   "cell_type": "markdown",
   "metadata": {},
   "source": [
    "### Update (컬럼명 변경 예제)"
   ]
  },
  {
   "cell_type": "code",
   "execution_count": null,
   "metadata": {},
   "outputs": [],
   "source": []
  },
  {
   "cell_type": "code",
   "execution_count": null,
   "metadata": {},
   "outputs": [],
   "source": []
  },
  {
   "cell_type": "code",
   "execution_count": null,
   "metadata": {},
   "outputs": [],
   "source": []
  },
  {
   "cell_type": "code",
   "execution_count": null,
   "metadata": {},
   "outputs": [],
   "source": []
  },
  {
   "cell_type": "markdown",
   "metadata": {},
   "source": [
    "### 컬렉션 객체 이름도 바꿀 수 있겠지요\n",
    "actor_collection -> actors_info 로 변경"
   ]
  },
  {
   "cell_type": "code",
   "execution_count": null,
   "metadata": {},
   "outputs": [],
   "source": []
  },
  {
   "cell_type": "code",
   "execution_count": null,
   "metadata": {},
   "outputs": [],
   "source": []
  },
  {
   "cell_type": "code",
   "execution_count": null,
   "metadata": {},
   "outputs": [],
   "source": []
  },
  {
   "cell_type": "code",
   "execution_count": null,
   "metadata": {},
   "outputs": [],
   "source": []
  }
 ],
 "metadata": {
  "interpreter": {
   "hash": "1c5a3b846123d2a82643fe3c4f9b396298d2691455411e6227bb75e195aa3874"
  },
  "kernelspec": {
   "display_name": "Python 3.8.0 64-bit ('nosqlVENV': venv)",
   "name": "python3"
  },
  "language_info": {
   "codemirror_mode": {
    "name": "ipython",
    "version": 3
   },
   "file_extension": ".py",
   "mimetype": "text/x-python",
   "name": "python",
   "nbconvert_exporter": "python",
   "pygments_lexer": "ipython3",
   "version": "3.8.0"
  },
  "nbTranslate": {
   "displayLangs": [
    "*"
   ],
   "hotkey": "alt-t",
   "langInMainMenu": true,
   "sourceLang": "en",
   "targetLang": "fr",
   "useGoogleTranslate": true
  }
 },
 "nbformat": 4,
 "nbformat_minor": 1
}
