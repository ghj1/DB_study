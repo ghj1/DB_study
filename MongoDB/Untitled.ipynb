{
 "cells": [
  {
   "cell_type": "code",
   "execution_count": 1,
   "id": "fdd94719",
   "metadata": {},
   "outputs": [
    {
     "name": "stdout",
     "output_type": "stream",
     "text": [
      "Package            Version\r\n",
      "------------------ ---------\r\n",
      "async-generator    1.10\r\n",
      "attrs              21.2.0\r\n",
      "backcall           0.2.0\r\n",
      "beautifulsoup4     4.10.0\r\n",
      "certifi            2021.10.8\r\n",
      "cffi               1.15.0\r\n",
      "charset-normalizer 2.0.7\r\n",
      "colorama           0.4.4\r\n",
      "configparser       5.0.2\r\n",
      "crayons            0.4.0\r\n",
      "cryptography       35.0.0\r\n",
      "debugpy            1.5.1\r\n",
      "decorator          5.1.0\r\n",
      "entrypoints        0.3\r\n",
      "h11                0.12.0\r\n",
      "idna               3.3\r\n",
      "ipykernel          6.5.0\r\n",
      "ipython            7.29.0\r\n",
      "jedi               0.18.0\r\n",
      "jupyter-client     7.0.6\r\n",
      "jupyter-core       4.9.1\r\n",
      "matplotlib-inline  0.1.3\r\n",
      "nest-asyncio       1.5.1\r\n",
      "outcome            1.1.0\r\n",
      "parso              0.8.2\r\n",
      "pexpect            4.8.0\r\n",
      "pickleshare        0.7.5\r\n",
      "pip                21.3.1\r\n",
      "prompt-toolkit     3.0.21\r\n",
      "ptyprocess         0.7.0\r\n",
      "pycparser          2.20\r\n",
      "Pygments           2.10.0\r\n",
      "pyOpenSSL          21.0.0\r\n",
      "pyperclip          1.8.2\r\n",
      "python-dateutil    2.8.2\r\n",
      "pyzmq              22.3.0\r\n",
      "requests           2.26.0\r\n",
      "selenium           4.0.0\r\n",
      "setuptools         58.2.0\r\n",
      "six                1.16.0\r\n",
      "sniffio            1.2.0\r\n",
      "sortedcontainers   2.4.0\r\n",
      "soupsieve          2.2.1\r\n",
      "tornado            6.1\r\n",
      "traitlets          5.1.1\r\n",
      "trio               0.19.0\r\n",
      "trio-websocket     0.9.2\r\n",
      "urllib3            1.26.7\r\n",
      "wcwidth            0.2.5\r\n",
      "webdriver-manager  3.5.1\r\n",
      "wheel              0.37.0\r\n",
      "wsproto            1.0.0\r\n"
     ]
    }
   ],
   "source": [
    "!pip list"
   ]
  },
  {
   "cell_type": "code",
   "execution_count": null,
   "id": "0629c480",
   "metadata": {},
   "outputs": [],
   "source": []
  }
 ],
 "metadata": {
  "kernelspec": {
   "display_name": "datavenv",
   "language": "python",
   "name": "datavenv"
  },
  "language_info": {
   "codemirror_mode": {
    "name": "ipython",
    "version": 3
   },
   "file_extension": ".py",
   "mimetype": "text/x-python",
   "name": "python",
   "nbconvert_exporter": "python",
   "pygments_lexer": "ipython3",
   "version": "3.8.0"
  }
 },
 "nbformat": 4,
 "nbformat_minor": 5
}
